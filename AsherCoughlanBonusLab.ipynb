{
 "cells": [
  {
   "cell_type": "code",
   "execution_count": 21,
   "id": "16fe78b2",
   "metadata": {},
   "outputs": [
    {
     "name": "stdout",
     "output_type": "stream",
     "text": [
      "pikachu\n",
      "[{'slot': 1, 'type': {'name': 'electric', 'url': 'https://pokeapi.co/api/v2/type/13/'}}]\n",
      "[{'base_stat': 35, 'effort': 0, 'stat': {'name': 'hp', 'url': 'https://pokeapi.co/api/v2/stat/1/'}}, {'base_stat': 55, 'effort': 0, 'stat': {'name': 'attack', 'url': 'https://pokeapi.co/api/v2/stat/2/'}}, {'base_stat': 40, 'effort': 0, 'stat': {'name': 'defense', 'url': 'https://pokeapi.co/api/v2/stat/3/'}}, {'base_stat': 50, 'effort': 0, 'stat': {'name': 'special-attack', 'url': 'https://pokeapi.co/api/v2/stat/4/'}}, {'base_stat': 50, 'effort': 0, 'stat': {'name': 'special-defense', 'url': 'https://pokeapi.co/api/v2/stat/5/'}}, {'base_stat': 90, 'effort': 2, 'stat': {'name': 'speed', 'url': 'https://pokeapi.co/api/v2/stat/6/'}}]\n"
     ]
    }
   ],
   "source": [
    "import requests\n",
    "\n",
    "pokemon_name = \"pikachu\"\n",
    "url = f\"https://pokeapi.co/api/v2/pokemon/{pokemon_name}\"\n",
    "response = requests.get(url)\n",
    "data = response.json()\n",
    "\n",
    "print(data[\"name\"])\n",
    "print(data[\"types\"])\n",
    "print(data[\"stats\"])\n"
   ]
  },
  {
   "cell_type": "code",
   "execution_count": 22,
   "id": "f5953110",
   "metadata": {},
   "outputs": [
    {
     "name": "stdout",
     "output_type": "stream",
     "text": [
      "bulbasaur\n",
      "ivysaur\n",
      "venusaur\n",
      "charmander\n",
      "charmeleon\n",
      "charizard\n",
      "squirtle\n",
      "wartortle\n",
      "blastoise\n",
      "caterpie\n",
      "metapod\n",
      "butterfree\n",
      "weedle\n",
      "kakuna\n",
      "beedrill\n",
      "pidgey\n",
      "pidgeotto\n",
      "pidgeot\n",
      "rattata\n",
      "raticate\n"
     ]
    }
   ],
   "source": [
    "url = \"https://pokeapi.co/api/v2/pokemon-species/\"\n",
    "response = requests.get(url)\n",
    "data = response.json()\n",
    "\n",
    "for species in data[\"results\"]:\n",
    "    print(species[\"name\"])\n"
   ]
  },
  {
   "cell_type": "code",
   "execution_count": 38,
   "id": "9233659a",
   "metadata": {},
   "outputs": [
    {
     "name": "stdout",
     "output_type": "stream",
     "text": [
      "The name of this move is thunderbolt\n",
      "This move has the type{'name': 'electric', 'url': 'https://pokeapi.co/api/v2/type/13/'}\n",
      "This move has a power of 90.\n"
     ]
    }
   ],
   "source": [
    "move_name = \"thunderbolt\"\n",
    "url = f\"https://pokeapi.co/api/v2/move/{move_name}\"\n",
    "response = requests.get(url)\n",
    "data = response.json()\n",
    "\n",
    "print(f\"The name of this move is \" + data[\"name\"])\n",
    "print(f\"This move has the type\" + str(data[\"type\"]))\n",
    "print(f\"This move has a power of \" + str(data[\"power\"]) + \".\" )\n"
   ]
  },
  {
   "cell_type": "code",
   "execution_count": 24,
   "id": "01a2f1d5",
   "metadata": {},
   "outputs": [
    {
     "name": "stdout",
     "output_type": "stream",
     "text": [
      "normal\n",
      "fighting\n",
      "flying\n",
      "poison\n",
      "ground\n",
      "rock\n",
      "bug\n",
      "ghost\n",
      "steel\n",
      "fire\n",
      "water\n",
      "grass\n",
      "electric\n",
      "psychic\n",
      "ice\n",
      "dragon\n",
      "dark\n",
      "fairy\n",
      "unknown\n",
      "shadow\n"
     ]
    }
   ],
   "source": [
    "url = \"https://pokeapi.co/api/v2/type/\"\n",
    "response = requests.get(url)\n",
    "data = response.json()\n",
    "\n",
    "for pokemon_type in data[\"results\"]:\n",
    "    print(pokemon_type[\"name\"])\n"
   ]
  },
  {
   "cell_type": "code",
   "execution_count": 40,
   "id": "0e45ecce",
   "metadata": {},
   "outputs": [
    {
     "name": "stdout",
     "output_type": "stream",
     "text": [
      "static\n",
      "[{'effect': 'Wenn ein Pokémon mit dieser Fähigkeit von einer Attacke mit Kontakt getroffen wird, besteht eine 30% Chance, dass der Angreifer paralysiert wird.\\n\\nPokémon die immun gegen electric Attacken sind können trotzdem von dieser Fähigkeit paralysiert werden.\\n\\nAußerhalb vom Kampf: Wenn ein Pokémon mit dieser Fähigkeit an erster Stelle im Team steht, besteht eine 50% Chance einem electric Pokémon zu begegnen, falls es welche gibt.', 'language': {'name': 'de', 'url': 'https://pokeapi.co/api/v2/language/6/'}, 'short_effect': '30% Chance das angreifende Pokémon bei Kontakt zu paralysieren.'}, {'effect': \"Whenever a move makes contact with this Pokémon, the move's user has a 30% chance of being paralyzed.\\n\\nPokémon that are immune to electric-type moves can still be paralyzed by this ability.\\n\\nOverworld: If the lead Pokémon has this ability, there is a 50% chance that encounters will be with an electric Pokémon, if applicable.\", 'language': {'name': 'en', 'url': 'https://pokeapi.co/api/v2/language/9/'}, 'short_effect': 'Has a 30% chance of paralyzing attacking Pokémon on contact.'}]\n"
     ]
    }
   ],
   "source": [
    "ability_name = \"static\"\n",
    "url = f\"https://pokeapi.co/api/v2/ability/{ability_name}\"\n",
    "response = requests.get(url)\n",
    "data = response.json()\n",
    "\n",
    "print(data[\"name\"])\n",
    "print(data[\"effect_entries\"])"
   ]
  },
  {
   "cell_type": "code",
   "execution_count": 35,
   "id": "834b41c7",
   "metadata": {},
   "outputs": [
    {
     "name": "stdout",
     "output_type": "stream",
     "text": [
      "Enter the name of a Pokémon: squirtle\n",
      "Name: Squirtle\n",
      "Types:\n",
      "- Water\n",
      "Stats:\n",
      "- Hp: 44\n",
      "- Attack: 48\n",
      "- Defense: 65\n",
      "- Special-attack: 50\n",
      "- Special-defense: 64\n",
      "- Speed: 43\n"
     ]
    }
   ],
   "source": [
    "pokemon_name = input(\"Enter the name of a Pokémon: \")\n",
    "url = f\"https://pokeapi.co/api/v2/pokemon/{pokemon_name}\"\n",
    "response = requests.get(url)\n",
    "\n",
    "if response.status_code == 200:\n",
    "    data = response.json()\n",
    "    print(f\"Name: {data['name'].capitalize()}\")\n",
    "    print(\"Types:\")\n",
    "    for type_info in data[\"types\"]:\n",
    "        print(f\"- {type_info['type']['name'].capitalize()}\")\n",
    "        print(\"Stats:\")\n",
    "    for stat_info in data[\"stats\"]:\n",
    "        print(f\"- {stat_info['stat']['name'].capitalize()}: {stat_info['base_stat']}\")\n",
    "else:\n",
    "    print(f\"Error: Could not find information for {pokemon_name}.\")\n"
   ]
  },
  {
   "cell_type": "code",
   "execution_count": 34,
   "id": "d5b312ab",
   "metadata": {},
   "outputs": [],
   "source": [
    "#Using this api, I would create a website that has a neat format and takes in inputs, such as pokemon name, move name, pokemon id\n",
    "# and have my website return a profile for the desired input, that way it would be handy to anyone playing the game\n",
    "# and provide needed combat data to win a better game. I would incorperate webscraping in by combing websites to see data\n",
    "#on what pokemon are most popular, and update my wwebsite with a theme of those pokemon to keep it trendy"
   ]
  },
  {
   "cell_type": "code",
   "execution_count": null,
   "id": "4186ce01",
   "metadata": {},
   "outputs": [],
   "source": []
  }
 ],
 "metadata": {
  "kernelspec": {
   "display_name": "Python 3 (ipykernel)",
   "language": "python",
   "name": "python3"
  },
  "language_info": {
   "codemirror_mode": {
    "name": "ipython",
    "version": 3
   },
   "file_extension": ".py",
   "mimetype": "text/x-python",
   "name": "python",
   "nbconvert_exporter": "python",
   "pygments_lexer": "ipython3",
   "version": "3.9.13"
  }
 },
 "nbformat": 4,
 "nbformat_minor": 5
}
