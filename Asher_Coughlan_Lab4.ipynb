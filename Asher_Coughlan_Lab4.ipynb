{
 "cells": [
  {
   "cell_type": "code",
   "execution_count": 26,
   "id": "b20a04e6",
   "metadata": {},
   "outputs": [],
   "source": [
    "import requests\n",
    "from bs4 import BeautifulSoup\n",
    "import pandas as pd\n",
    "import html5lib\n",
    "\n",
    "\n",
    "\n",
    "response = requests.get(\"https://www.imdb.com/list/ls055592025/\").text\n",
    "\n",
    "\n",
    "soup = BeautifulSoup(response, 'html.parser')\n",
    "\n",
    "\n",
    "movies = soup.find_all(\"div\", class_=\"lister-item mode-detail\")\n",
    "\n",
    "\n",
    "titles = []\n",
    "release_dates = []\n",
    "genres = []\n",
    "\n",
    "for movie in movies:\n",
    "\n",
    "    title = movie.find('h3', {'class': 'lister-item-header'}).find('a').text.strip()\n",
    "    titles.append(title)\n",
    "    \n",
    "    release_date = movie.find(\"span\", {\"class\": \"lister-item-year\"}).text.strip()\n",
    "    release_dates.append(release_date)\n",
    "    \n",
    "\n",
    "    genre = movie.find(\"span\", {\"class\": \"genre\"}).text.strip()\n",
    "    genres.append(genre)\n",
    "    \n",
    "\n",
    "df = pd.DataFrame({\n",
    "    \"Title\": titles,\n",
    "    \"Release Date\": release_dates,\n",
    "    \"Genre\": genres\n",
    "})\n",
    "\n",
    "finall = df.to_csv('top_100_movies.csv', index=False)"
   ]
  },
  {
   "cell_type": "code",
   "execution_count": 43,
   "id": "1f56929b",
   "metadata": {},
   "outputs": [],
   "source": [
    "import requests\n",
    "from bs4 import BeautifulSoup\n",
    "import csv\n",
    "\n",
    "base_url = 'https://www.loc.gov/search/'\n",
    "search_query = '?q=cats&sp='\n",
    "\n",
    "\n",
    "with open('cat_items.csv', mode='w', newline='', encoding='utf-8') as csv_file:\n",
    "    fieldnames = ['Title', 'Description', 'URL']\n",
    "    writer = csv.DictWriter(csv_file, fieldnames=fieldnames)\n",
    "    writer.writeheader()\n",
    "\n",
    "\n",
    "    for i in range(1, 6):\n",
    "        page_url = base_url + search_query + str(i)\n",
    "        response = requests.get(page_url)\n",
    "\n",
    "\n",
    "        soup = BeautifulSoup(response.content, 'html.parser')\n",
    "\n",
    "\n",
    "        items = soup.find_all('li', {'class': 'item'})\n",
    "\n",
    "\n",
    "        for item in items:\n",
    "            title = item.find('span', {'class': 'item-description-title'}).get_text().strip()\n",
    "            description = item.find('div', {'class': 'item-description'}).get_text().strip()\n",
    "            url = item.find('a')['href']\n",
    "\n",
    "\n",
    "            writer.writerow({'Title': title, 'Description': description, 'URL': url})"
   ]
  },
  {
   "cell_type": "code",
   "execution_count": null,
   "id": "7a092bb8",
   "metadata": {},
   "outputs": [],
   "source": []
  },
  {
   "cell_type": "code",
   "execution_count": 38,
   "id": "4793a0c7",
   "metadata": {},
   "outputs": [],
   "source": []
  },
  {
   "cell_type": "code",
   "execution_count": 36,
   "id": "761403e2",
   "metadata": {},
   "outputs": [],
   "source": []
  },
  {
   "cell_type": "code",
   "execution_count": null,
   "id": "bad4b1b9",
   "metadata": {},
   "outputs": [],
   "source": []
  }
 ],
 "metadata": {
  "kernelspec": {
   "display_name": "Python 3 (ipykernel)",
   "language": "python",
   "name": "python3"
  },
  "language_info": {
   "codemirror_mode": {
    "name": "ipython",
    "version": 3
   },
   "file_extension": ".py",
   "mimetype": "text/x-python",
   "name": "python",
   "nbconvert_exporter": "python",
   "pygments_lexer": "ipython3",
   "version": "3.9.13"
  }
 },
 "nbformat": 4,
 "nbformat_minor": 5
}
