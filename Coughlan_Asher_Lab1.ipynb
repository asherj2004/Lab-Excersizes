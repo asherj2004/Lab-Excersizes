{
 "cells": [
  {
   "cell_type": "code",
   "execution_count": null,
   "id": "7d69554e",
   "metadata": {},
   "outputs": [],
   "source": []
  },
  {
   "cell_type": "code",
   "execution_count": 16,
   "id": "42dfad11",
   "metadata": {},
   "outputs": [
    {
     "name": "stdout",
     "output_type": "stream",
     "text": [
      "chestnut\n"
     ]
    }
   ],
   "source": [
    "list = [\"apple\", \"chestnut\", \"gargoyle\", \"pandas\", \"sheep\", \"raptor\"]\n",
    "\n",
    "def find_longest_word():\n",
    "    longest_word = \"\"\n",
    "    for item in list:\n",
    "        if len(item) > len(longest_word):\n",
    "            longest_word = item\n",
    "    print(longest_word)\n",
    "\n",
    "find_longest_word()"
   ]
  },
  {
   "cell_type": "code",
   "execution_count": 23,
   "id": "da045dd8",
   "metadata": {},
   "outputs": [
    {
     "name": "stdout",
     "output_type": "stream",
     "text": [
      "chestnut\n"
     ]
    }
   ],
   "source": [
    "list = [\"apple\", \"chestnut\", \"gargoyle\", \"pandas\", \"sheep\", \"raptor\"]\n",
    "\n",
    "def find_longest_word():\n",
    "    longest_word = \"\"\n",
    "    for item in list:\n",
    "        if len(item) > len(longest_word):\n",
    "            longest_word = item\n",
    "    print(longest_word)\n",
    "\n",
    "find_longest_word()"
   ]
  },
  {
   "cell_type": "code",
   "execution_count": 36,
   "id": "83b7987a",
   "metadata": {},
   "outputs": [
    {
     "name": "stdout",
     "output_type": "stream",
     "text": [
      "Selected words: ['platinating', 'Chrysosplenium', 'proselytiser', 'tragic-comedy', 'apert', 'payola', 'spinidentate']\n",
      "The longest word is: Chrysosplenium\n"
     ]
    }
   ],
   "source": [
    "import random\n",
    "\n",
    "def find_longest_word(word_list):\n",
    "    longest_word = ''\n",
    "    for word in word_list:\n",
    "        if len(word) > len(longest_word):\n",
    "            longest_word = word\n",
    "    return longest_word\n",
    "\n",
    "with open('words.txt', 'r') as f:\n",
    "    words = f.read().splitlines()\n",
    "\n",
    "selected_words = random.sample(words, 7)\n",
    "print(\"Selected words:\", selected_words)\n",
    "longest_word = find_longest_word(selected_words)\n",
    "print(\"The longest word is:\", longest_word)\n"
   ]
  },
  {
   "cell_type": "code",
   "execution_count": 66,
   "id": "fc15bba0",
   "metadata": {},
   "outputs": [
    {
     "name": "stdout",
     "output_type": "stream",
     "text": [
      "Kathmandu\n",
      "dict_keys(['Nepal', 'Italy', 'England', 'Mexico', 'China', 'USA'])\n",
      "dict_values(['Kathmandu', 'London', 'Mexico City', 'Beijing', 'Washington DC'])\n"
     ]
    }
   ],
   "source": [
    "capital_city = {\"Nepal\": \"Kathmandu\", \"Italy\": \"Rome\", \"England\": \"London\", \"Mexico\" : \"Mexico City\", \"China\" : \"Beijing\", \"USA\" : \"Washington DC\"}\n",
    "\n",
    "print(capital_city.get(\"Nepal\"))\n",
    "\n",
    "print(capital_city.keys())\n",
    "\n",
    "capital_city.pop(\"Italy\")\n",
    "\n",
    "print(capital_city.values())\n",
    "\n"
   ]
  },
  {
   "cell_type": "code",
   "execution_count": 70,
   "id": "47568695",
   "metadata": {},
   "outputs": [
    {
     "name": "stdout",
     "output_type": "stream",
     "text": [
      "Name: Jimmy Chin\n",
      "Age: 18\n",
      "Grade: 13\n",
      "Courses: {'HARP150': 100, 'CHEM104': 92, 'ECON162': 90}\n",
      "GPA: 94.0\n"
     ]
    }
   ],
   "source": [
    "class Student:\n",
    "    def __init__(self, name, age, grade):\n",
    "        self.name = name\n",
    "        self.age = age\n",
    "        self.grade = grade\n",
    "        self.courses = {}\n",
    "\n",
    "    def add_course(self, course_name, course_grade):\n",
    "        self.courses[course_name] = course_grade\n",
    "\n",
    "    def get_gpa(self):\n",
    "        total_grade = 0\n",
    "        num_courses = len(self.courses)\n",
    "        for course_grade in self.courses.values():\n",
    "            total_grade += course_grade\n",
    "        return total_grade / num_courses\n",
    "\n",
    "def main():\n",
    "    student = Student(\"Jimmy Chin\", 18, 13)\n",
    "    student.add_course(\"HARP150\", 100)\n",
    "    student.add_course(\"CHEM104\", 92)\n",
    "    student.add_course(\"ECON162\", 90)\n",
    "\n",
    "    print(\"Name:\", student.name)\n",
    "    print(\"Age:\", student.age)\n",
    "    print(\"Grade:\", student.grade)\n",
    "    print(\"Courses:\", student.courses)\n",
    "    print(\"GPA:\", student.get_gpa())\n",
    "\n",
    "main()\n"
   ]
  },
  {
   "cell_type": "code",
   "execution_count": 4,
   "id": "c76738aa",
   "metadata": {},
   "outputs": [
    {
     "name": "stdout",
     "output_type": "stream",
     "text": [
      "\n",
      "Used letters:\n",
      "\n",
      "Word: _ _ _ _ _ _ _ _ _ _ _ \n",
      "\n",
      "Guess a letter:j\n",
      "\n",
      "Used letters: j\n",
      "\n",
      "Word: _ _ _ _ _ _ _ _ _ _ _ \n",
      "\n",
      "Guess a letter:p\n",
      "\n",
      "Used letters: j p\n",
      "\n",
      "Word: p _ _ _ _ _ _ _ _ _ _ \n",
      "\n",
      "Guess a letter:l\n",
      "\n",
      "Used letters: j l p\n",
      "\n",
      "Word: p l _ _ _ _ _ _ _ _ _ \n",
      "\n",
      "Guess a letter:a\n",
      "\n",
      "Used letters: a j l p\n",
      "\n",
      "Word: p l a _ _ _ a _ _ _ _ \n",
      "\n",
      "Guess a letter:y\n",
      "\n",
      "Used letters: a j l p y\n",
      "\n",
      "Word: p l a y _ _ a _ _ _ _ \n",
      "\n",
      "Guess a letter:s\n",
      "\n",
      "Used letters: a j l p s y\n",
      "\n",
      "Word: p l a y s _ a _ _ _ _ \n",
      "\n",
      "Guess a letter:t\n",
      "\n",
      "Used letters: a j l p s t y\n",
      "\n",
      "Word: p l a y s t a t _ _ _ \n",
      "\n",
      "Guess a letter:a\n",
      "You've already tried that letter. Choose again.\n",
      "\n",
      "Used letters: a j l p s t y\n",
      "\n",
      "Word: p l a y s t a t _ _ _ \n",
      "\n",
      "Guess a letter:i\n",
      "\n",
      "Used letters: a i j l p s t y\n",
      "\n",
      "Word: p l a y s t a t i _ _ \n",
      "\n",
      "Guess a letter:o\n",
      "\n",
      "Used letters: a i j l o p s t y\n",
      "\n",
      "Word: p l a y s t a t i o _ \n",
      "\n",
      "Guess a letter:n\n",
      "\n",
      "You won!\n",
      "The word was: playstation\n"
     ]
    }
   ],
   "source": [
    "import random\n",
    "def play_hangman():\n",
    "    word_list = [\"apple\", \"rock\", \"potato\", \"javascript\", \"emerald\", \"python\", \"playstation\", \"bubble tea\"]\n",
    "    random_word = random.choice(word_list)\n",
    "    word_letters = set(random_word)\n",
    "    alphabet = set(\"abcdefghijklmnopqrstuvwxyz\")\n",
    "    used_letters = set()\n",
    "    tries = 6\n",
    "\n",
    "\n",
    "    while len(word_letters) > 0 and tries > 0:\n",
    "        print(\"\\nUsed letters:\", *sorted(used_letters), sep=\" \")\n",
    "        print(\"\\nWord: \", end=\"\")\n",
    "        for letter in random_word:\n",
    "            if letter in used_letters:\n",
    "                print(letter, end=\" \")\n",
    "            else:\n",
    "                print(\"_\", end=\" \")\n",
    "        guess = input(\"\\n\\nGuess a letter:\").lower()\n",
    "        if guess in alphabet - used_letters:\n",
    "            used_letters.add(guess)\n",
    "            if guess in word_letters:\n",
    "                word_letters.remove(guess)\n",
    "            else:\n",
    "                tries -= 1\n",
    "        else:\n",
    "            print(\"You've already tried that letter. Choose again.\")\n",
    "    \n",
    "    if len(word_letters) == 0:\n",
    "        print(\"\\nYou won!\\nThe word was:\", random_word)\n",
    "    else:\n",
    "        print(\"\\nYou lost!\\nThe word was:\", random_word)\n",
    "\n",
    "play_hangman()\n"
   ]
  },
  {
   "cell_type": "code",
   "execution_count": null,
   "id": "a7a557c5",
   "metadata": {},
   "outputs": [],
   "source": []
  }
 ],
 "metadata": {
  "kernelspec": {
   "display_name": "Python 3 (ipykernel)",
   "language": "python",
   "name": "python3"
  },
  "language_info": {
   "codemirror_mode": {
    "name": "ipython",
    "version": 3
   },
   "file_extension": ".py",
   "mimetype": "text/x-python",
   "name": "python",
   "nbconvert_exporter": "python",
   "pygments_lexer": "ipython3",
   "version": "3.9.13"
  }
 },
 "nbformat": 4,
 "nbformat_minor": 5
}
